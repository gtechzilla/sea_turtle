{
  "nbformat": 4,
  "nbformat_minor": 0,
  "metadata": {
    "kernelspec": {
      "display_name": "Python 3",
      "language": "python",
      "name": "python3"
    },
    "language_info": {
      "codemirror_mode": {
        "name": "ipython",
        "version": 3
      },
      "file_extension": ".py",
      "mimetype": "text/x-python",
      "name": "python",
      "nbconvert_exporter": "python",
      "pygments_lexer": "ipython3",
      "version": "3.6.6"
    },
    "colab": {
      "name": "data_proc.ipynb",
      "provenance": [],
      "collapsed_sections": [],
      "include_colab_link": true
    }
  },
  "cells": [
    {
      "cell_type": "markdown",
      "metadata": {
        "id": "view-in-github",
        "colab_type": "text"
      },
      "source": [
        "<a href=\"https://colab.research.google.com/github/gtechzilla/sea_turtle/blob/master/target_data.ipynb\" target=\"_parent\"><img src=\"https://colab.research.google.com/assets/colab-badge.svg\" alt=\"Open In Colab\"/></a>"
      ]
    },
    {
      "cell_type": "code",
      "metadata": {
        "id": "FjeOpeRrWAwz",
        "colab_type": "code",
        "colab": {}
      },
      "source": [
        "import pandas as  pd \n",
        "import numpy as np \n",
        "import matplotlib.pyplot as plt \n",
        "from  datetime import datetime"
      ],
      "execution_count": 0,
      "outputs": []
    },
    {
      "cell_type": "code",
      "metadata": {
        "id": "xdF8nXhVWAw4",
        "colab_type": "code",
        "colab": {}
      },
      "source": [
        "# load data \n",
        "train=pd.read_csv(\"./final_data/train.csv\")\n",
        "sample_sub=pd.read_csv(\"./final_data/Sample_sub.csv\")"
      ],
      "execution_count": 0,
      "outputs": []
    },
    {
      "cell_type": "code",
      "metadata": {
        "id": "gSUmurKhWAw9",
        "colab_type": "code",
        "outputId": "7a009b78-50e1-4dbf-af6c-2b615d07c4bf",
        "colab": {}
      },
      "source": [
        "sample_sub.head()"
      ],
      "execution_count": 0,
      "outputs": [
        {
          "output_type": "execute_result",
          "data": {
            "text/html": [
              "<div>\n",
              "<style scoped>\n",
              "    .dataframe tbody tr th:only-of-type {\n",
              "        vertical-align: middle;\n",
              "    }\n",
              "\n",
              "    .dataframe tbody tr th {\n",
              "        vertical-align: top;\n",
              "    }\n",
              "\n",
              "    .dataframe thead th {\n",
              "        text-align: right;\n",
              "    }\n",
              "</style>\n",
              "<table border=\"1\" class=\"dataframe\">\n",
              "  <thead>\n",
              "    <tr style=\"text-align: right;\">\n",
              "      <th></th>\n",
              "      <th>ID</th>\n",
              "      <th>Capture_Number</th>\n",
              "    </tr>\n",
              "  </thead>\n",
              "  <tbody>\n",
              "    <tr>\n",
              "      <th>0</th>\n",
              "      <td>CaptureSite_0_201901</td>\n",
              "      <td>9</td>\n",
              "    </tr>\n",
              "    <tr>\n",
              "      <th>1</th>\n",
              "      <td>CaptureSite_0_201902</td>\n",
              "      <td>2</td>\n",
              "    </tr>\n",
              "    <tr>\n",
              "      <th>2</th>\n",
              "      <td>CaptureSite_0_201903</td>\n",
              "      <td>0</td>\n",
              "    </tr>\n",
              "    <tr>\n",
              "      <th>3</th>\n",
              "      <td>CaptureSite_0_201904</td>\n",
              "      <td>6</td>\n",
              "    </tr>\n",
              "    <tr>\n",
              "      <th>4</th>\n",
              "      <td>CaptureSite_0_201905</td>\n",
              "      <td>1</td>\n",
              "    </tr>\n",
              "  </tbody>\n",
              "</table>\n",
              "</div>"
            ],
            "text/plain": [
              "                     ID  Capture_Number\n",
              "0  CaptureSite_0_201901               9\n",
              "1  CaptureSite_0_201902               2\n",
              "2  CaptureSite_0_201903               0\n",
              "3  CaptureSite_0_201904               6\n",
              "4  CaptureSite_0_201905               1"
            ]
          },
          "metadata": {
            "tags": []
          },
          "execution_count": 65
        }
      ]
    },
    {
      "cell_type": "code",
      "metadata": {
        "id": "vLiRz0fdWAxD",
        "colab_type": "code",
        "outputId": "4c7055cf-9987-412a-e2f1-32d9a2907917",
        "colab": {}
      },
      "source": [
        "train.head()"
      ],
      "execution_count": 0,
      "outputs": [
        {
          "output_type": "execute_result",
          "data": {
            "text/html": [
              "<div>\n",
              "<style scoped>\n",
              "    .dataframe tbody tr th:only-of-type {\n",
              "        vertical-align: middle;\n",
              "    }\n",
              "\n",
              "    .dataframe tbody tr th {\n",
              "        vertical-align: top;\n",
              "    }\n",
              "\n",
              "    .dataframe thead th {\n",
              "        text-align: right;\n",
              "    }\n",
              "</style>\n",
              "<table border=\"1\" class=\"dataframe\">\n",
              "  <thead>\n",
              "    <tr style=\"text-align: right;\">\n",
              "      <th></th>\n",
              "      <th>Rescue_ID</th>\n",
              "      <th>Date_TimeCaught</th>\n",
              "      <th>Researcher</th>\n",
              "      <th>CaptureSite</th>\n",
              "      <th>ForagingGround</th>\n",
              "      <th>CaptureMethod</th>\n",
              "      <th>Fisher</th>\n",
              "      <th>LandingSite</th>\n",
              "      <th>Species</th>\n",
              "      <th>Tag_1</th>\n",
              "      <th>Tag_2</th>\n",
              "      <th>Lost_Tags</th>\n",
              "      <th>T_Number</th>\n",
              "      <th>CCL_cm</th>\n",
              "      <th>CCW_cm</th>\n",
              "      <th>Weight_Kg</th>\n",
              "      <th>Sex</th>\n",
              "      <th>TurtleCharacteristics</th>\n",
              "      <th>Status</th>\n",
              "      <th>ReleaseSite</th>\n",
              "      <th>Date_TimeRelease</th>\n",
              "      <th>Time_OldExcelReleases</th>\n",
              "      <th>Release_Admiss_Notes</th>\n",
              "      <th>SpecialRemarks</th>\n",
              "      <th>PCVNumber</th>\n",
              "      <th>Expenditure</th>\n",
              "    </tr>\n",
              "  </thead>\n",
              "  <tbody>\n",
              "    <tr>\n",
              "      <th>0</th>\n",
              "      <td>2000_RE_0060</td>\n",
              "      <td>2000-12-22</td>\n",
              "      <td>Researcher_25</td>\n",
              "      <td>CaptureSite_0</td>\n",
              "      <td>Ocean</td>\n",
              "      <td>Net</td>\n",
              "      <td>Fisher_1072</td>\n",
              "      <td>LandingSite_CaptureSiteCategory_2</td>\n",
              "      <td>Species_6</td>\n",
              "      <td>CC00147</td>\n",
              "      <td>None</td>\n",
              "      <td>NaN</td>\n",
              "      <td>NaN</td>\n",
              "      <td>64.70</td>\n",
              "      <td>62.60</td>\n",
              "      <td>NaN</td>\n",
              "      <td>Unknown</td>\n",
              "      <td>algae at rear of shell</td>\n",
              "      <td>Released</td>\n",
              "      <td>ReleaseSite_50</td>\n",
              "      <td>22-Dec-00</td>\n",
              "      <td>NaN</td>\n",
              "      <td>NaN</td>\n",
              "      <td>NaN</td>\n",
              "      <td>NaN</td>\n",
              "      <td>NaN</td>\n",
              "    </tr>\n",
              "    <tr>\n",
              "      <th>1</th>\n",
              "      <td>2001_RE_0187</td>\n",
              "      <td>2001-10-28</td>\n",
              "      <td>Researcher_6</td>\n",
              "      <td>CaptureSite_0</td>\n",
              "      <td>Ocean</td>\n",
              "      <td>Net</td>\n",
              "      <td>Fisher_520</td>\n",
              "      <td>LandingSite_CaptureSiteCategory_2</td>\n",
              "      <td>Species_6</td>\n",
              "      <td>W442</td>\n",
              "      <td>None</td>\n",
              "      <td>NaN</td>\n",
              "      <td>NaN</td>\n",
              "      <td>35.85</td>\n",
              "      <td>31.35</td>\n",
              "      <td>NaN</td>\n",
              "      <td>Unknown</td>\n",
              "      <td>multiple b's on front flippers&amp;  a lot of alga...</td>\n",
              "      <td>Released</td>\n",
              "      <td>ReleaseSite_62</td>\n",
              "      <td>28-Oct-01</td>\n",
              "      <td>NaN</td>\n",
              "      <td>NaN</td>\n",
              "      <td>NaN</td>\n",
              "      <td>NaN</td>\n",
              "      <td>NaN</td>\n",
              "    </tr>\n",
              "    <tr>\n",
              "      <th>2</th>\n",
              "      <td>2001_RE_0197</td>\n",
              "      <td>2001-11-01</td>\n",
              "      <td>Researcher_6</td>\n",
              "      <td>CaptureSite_0</td>\n",
              "      <td>Ocean</td>\n",
              "      <td>Net</td>\n",
              "      <td>Fisher_1669</td>\n",
              "      <td>LandingSite_CaptureSiteCategory_2</td>\n",
              "      <td>Species_5</td>\n",
              "      <td>KE0376</td>\n",
              "      <td>None</td>\n",
              "      <td>NaN</td>\n",
              "      <td>NaN</td>\n",
              "      <td>51.80</td>\n",
              "      <td>49.20</td>\n",
              "      <td>NaN</td>\n",
              "      <td>Unknown</td>\n",
              "      <td>clean</td>\n",
              "      <td>Released</td>\n",
              "      <td>ReleaseSite_50</td>\n",
              "      <td>1-Nov-01</td>\n",
              "      <td>NaN</td>\n",
              "      <td>NaN</td>\n",
              "      <td>NaN</td>\n",
              "      <td>NaN</td>\n",
              "      <td>NaN</td>\n",
              "    </tr>\n",
              "    <tr>\n",
              "      <th>3</th>\n",
              "      <td>2002_RE_0031</td>\n",
              "      <td>2002-03-11</td>\n",
              "      <td>Researcher_32</td>\n",
              "      <td>CaptureSite_0</td>\n",
              "      <td>Ocean</td>\n",
              "      <td>Net</td>\n",
              "      <td>Fisher_1798</td>\n",
              "      <td>LandingSite_CaptureSiteCategory_2</td>\n",
              "      <td>Species_6</td>\n",
              "      <td>CC00302</td>\n",
              "      <td>None</td>\n",
              "      <td>NaN</td>\n",
              "      <td>NaN</td>\n",
              "      <td>60.50</td>\n",
              "      <td>59.00</td>\n",
              "      <td>NaN</td>\n",
              "      <td>Unknown</td>\n",
              "      <td>1 b 3 CS+ calcerous algae at rear end of shell...</td>\n",
              "      <td>Released</td>\n",
              "      <td>ReleaseSite_50</td>\n",
              "      <td>11-Mar-02</td>\n",
              "      <td>NaN</td>\n",
              "      <td>NaN</td>\n",
              "      <td>NaN</td>\n",
              "      <td>NaN</td>\n",
              "      <td>NaN</td>\n",
              "    </tr>\n",
              "    <tr>\n",
              "      <th>4</th>\n",
              "      <td>2002_RE_0118</td>\n",
              "      <td>2002-08-08</td>\n",
              "      <td>Researcher_25</td>\n",
              "      <td>CaptureSite_0</td>\n",
              "      <td>Ocean</td>\n",
              "      <td>Beached</td>\n",
              "      <td>Fisher_1918</td>\n",
              "      <td>LandingSite_CaptureSiteCategory_2</td>\n",
              "      <td>Species_5</td>\n",
              "      <td>NotTagged_0113</td>\n",
              "      <td>None</td>\n",
              "      <td>NaN</td>\n",
              "      <td>NaN</td>\n",
              "      <td>34.70</td>\n",
              "      <td>33.00</td>\n",
              "      <td>NaN</td>\n",
              "      <td>Unknown</td>\n",
              "      <td>very lively+ right eye is hanging out + swolle...</td>\n",
              "      <td>Released</td>\n",
              "      <td>ReleaseSite_62</td>\n",
              "      <td>8-Aug-02</td>\n",
              "      <td>NaN</td>\n",
              "      <td>NaN</td>\n",
              "      <td>NaN</td>\n",
              "      <td>NaN</td>\n",
              "      <td>NaN</td>\n",
              "    </tr>\n",
              "  </tbody>\n",
              "</table>\n",
              "</div>"
            ],
            "text/plain": [
              "      Rescue_ID Date_TimeCaught  ... PCVNumber Expenditure\n",
              "0  2000_RE_0060      2000-12-22  ...       NaN         NaN\n",
              "1  2001_RE_0187      2001-10-28  ...       NaN         NaN\n",
              "2  2001_RE_0197      2001-11-01  ...       NaN         NaN\n",
              "3  2002_RE_0031      2002-03-11  ...       NaN         NaN\n",
              "4  2002_RE_0118      2002-08-08  ...       NaN         NaN\n",
              "\n",
              "[5 rows x 26 columns]"
            ]
          },
          "metadata": {
            "tags": []
          },
          "execution_count": 66
        }
      ]
    },
    {
      "cell_type": "code",
      "metadata": {
        "id": "o0B1yYoGWAxH",
        "colab_type": "code",
        "colab": {}
      },
      "source": [
        "# split Id to Year woy and CaptureSite\n",
        "sample_sub[\"year_woy\"]=(sample_sub.ID.apply(lambda x: x.split(\"_\")[-1])).astype(int)\n",
        "sample_sub[\"CaptureSite\"]=sample_sub.ID.apply(lambda x: (\"_\").join(x.split(\"_\")[0:-1]))"
      ],
      "execution_count": 0,
      "outputs": []
    },
    {
      "cell_type": "code",
      "metadata": {
        "id": "Wo06skJtWAxK",
        "colab_type": "code",
        "outputId": "c4420503-bf34-4d98-c461-a24ce8b92f41",
        "colab": {}
      },
      "source": [
        "# Create Time features from Date_TimeCaught \n",
        "train[\"Date_TimeCaught\"]=pd.to_datetime(train[\"Date_TimeCaught\"])\n",
        "print(train.Date_TimeCaught.min(),train.Date_TimeCaught.max())\n",
        "train[\"year\"]=train.Date_TimeCaught.dt.year\n",
        "train[\"week_of_year\"]=train.Date_TimeCaught.dt.weekofyear\n",
        "train[\"year_woy\"]=train.year*100+train.week_of_year"
      ],
      "execution_count": 0,
      "outputs": [
        {
          "output_type": "stream",
          "text": [
            "1998-04-17 00:00:00 2018-12-31 00:00:00\n"
          ],
          "name": "stdout"
        }
      ]
    },
    {
      "cell_type": "code",
      "metadata": {
        "id": "T-_ygwnXWAxR",
        "colab_type": "code",
        "outputId": "c9aa5f80-52d6-4270-c8bb-8458fb53d2d0",
        "colab": {}
      },
      "source": [
        "keys=pd.concat([train[[\"year_woy\",\"CaptureSite\"]],sample_sub[[\"year_woy\",\"CaptureSite\"]]])\n",
        "# keys.sort_values([\"CaptureSite\",\"year_woy\"],inplace=True)\n",
        "CaptureSite_min_year_woy=keys.groupby(\"CaptureSite\").year_woy.min().rename(\"year_woy\").reset_index()\n",
        "CaptureSite_min_year_woy.head()"
      ],
      "execution_count": 0,
      "outputs": [
        {
          "output_type": "execute_result",
          "data": {
            "text/html": [
              "<div>\n",
              "<style scoped>\n",
              "    .dataframe tbody tr th:only-of-type {\n",
              "        vertical-align: middle;\n",
              "    }\n",
              "\n",
              "    .dataframe tbody tr th {\n",
              "        vertical-align: top;\n",
              "    }\n",
              "\n",
              "    .dataframe thead th {\n",
              "        text-align: right;\n",
              "    }\n",
              "</style>\n",
              "<table border=\"1\" class=\"dataframe\">\n",
              "  <thead>\n",
              "    <tr style=\"text-align: right;\">\n",
              "      <th></th>\n",
              "      <th>CaptureSite</th>\n",
              "      <th>year_woy</th>\n",
              "    </tr>\n",
              "  </thead>\n",
              "  <tbody>\n",
              "    <tr>\n",
              "      <th>0</th>\n",
              "      <td>CaptureSite_0</td>\n",
              "      <td>200051</td>\n",
              "    </tr>\n",
              "    <tr>\n",
              "      <th>1</th>\n",
              "      <td>CaptureSite_1</td>\n",
              "      <td>200123</td>\n",
              "    </tr>\n",
              "    <tr>\n",
              "      <th>2</th>\n",
              "      <td>CaptureSite_10</td>\n",
              "      <td>200050</td>\n",
              "    </tr>\n",
              "    <tr>\n",
              "      <th>3</th>\n",
              "      <td>CaptureSite_11</td>\n",
              "      <td>199828</td>\n",
              "    </tr>\n",
              "    <tr>\n",
              "      <th>4</th>\n",
              "      <td>CaptureSite_12</td>\n",
              "      <td>200107</td>\n",
              "    </tr>\n",
              "  </tbody>\n",
              "</table>\n",
              "</div>"
            ],
            "text/plain": [
              "      CaptureSite  year_woy\n",
              "0   CaptureSite_0    200051\n",
              "1   CaptureSite_1    200123\n",
              "2  CaptureSite_10    200050\n",
              "3  CaptureSite_11    199828\n",
              "4  CaptureSite_12    200107"
            ]
          },
          "metadata": {
            "tags": []
          },
          "execution_count": 72
        }
      ]
    },
    {
      "cell_type": "code",
      "metadata": {
        "id": "tpbx4ikgWAxU",
        "colab_type": "code",
        "outputId": "e65da3dc-bfe1-4c03-a19f-93d8d196a49b",
        "colab": {
          "base_uri": "https://localhost:8080/",
          "height": 275
        }
      },
      "source": [
        "range_year_woy=pd.DataFrame()\n",
        "range_year_woy[\"Date_TimeCaught\"]=pd.date_range(start=train.Date_TimeCaught.min(),end=datetime(2019,10,31))\n",
        "range_year_woy[\"year\"]=range_year_woy.Date_TimeCaught.dt.year\n",
        "range_year_woy[\"week_of_year\"]=range_year_woy.Date_TimeCaught.dt.weekofyear\n",
        "range_year_woy[\"year_woy\"]=range_year_woy.year*100+range_year_woy.week_of_year\n",
        "range_year_woy.drop_duplicates([\"year_woy\"],inplace=True)"
      ],
      "execution_count": 0,
      "outputs": [
        {
          "output_type": "error",
          "ename": "NameError",
          "evalue": "ignored",
          "traceback": [
            "\u001b[0;31m---------------------------------------------------------------------------\u001b[0m",
            "\u001b[0;31mNameError\u001b[0m                                 Traceback (most recent call last)",
            "\u001b[0;32m<ipython-input-1-defe5c6e11a5>\u001b[0m in \u001b[0;36m<module>\u001b[0;34m()\u001b[0m\n\u001b[0;32m----> 1\u001b[0;31m \u001b[0mrange_year_woy\u001b[0m\u001b[0;34m=\u001b[0m\u001b[0mpd\u001b[0m\u001b[0;34m.\u001b[0m\u001b[0mDataFrame\u001b[0m\u001b[0;34m(\u001b[0m\u001b[0;34m)\u001b[0m\u001b[0;34m\u001b[0m\u001b[0;34m\u001b[0m\u001b[0m\n\u001b[0m\u001b[1;32m      2\u001b[0m \u001b[0mrange_year_woy\u001b[0m\u001b[0;34m[\u001b[0m\u001b[0;34m\"Date_TimeCaught\"\u001b[0m\u001b[0;34m]\u001b[0m\u001b[0;34m=\u001b[0m\u001b[0mpd\u001b[0m\u001b[0;34m.\u001b[0m\u001b[0mdate_range\u001b[0m\u001b[0;34m(\u001b[0m\u001b[0mstart\u001b[0m\u001b[0;34m=\u001b[0m\u001b[0mtrain\u001b[0m\u001b[0;34m.\u001b[0m\u001b[0mDate_TimeCaught\u001b[0m\u001b[0;34m.\u001b[0m\u001b[0mmin\u001b[0m\u001b[0;34m(\u001b[0m\u001b[0;34m)\u001b[0m\u001b[0;34m,\u001b[0m\u001b[0mend\u001b[0m\u001b[0;34m=\u001b[0m\u001b[0mdatetime\u001b[0m\u001b[0;34m(\u001b[0m\u001b[0;36m2019\u001b[0m\u001b[0;34m,\u001b[0m\u001b[0;36m10\u001b[0m\u001b[0;34m,\u001b[0m\u001b[0;36m31\u001b[0m\u001b[0;34m)\u001b[0m\u001b[0;34m)\u001b[0m\u001b[0;34m\u001b[0m\u001b[0;34m\u001b[0m\u001b[0m\n\u001b[1;32m      3\u001b[0m \u001b[0;31m# range_year_woy[\"year\"]=range_year_woy.Date_TimeCaught.dt.year\u001b[0m\u001b[0;34m\u001b[0m\u001b[0;34m\u001b[0m\u001b[0;34m\u001b[0m\u001b[0m\n\u001b[1;32m      4\u001b[0m \u001b[0;31m# range_year_woy[\"week_of_year\"]=range_year_woy.Date_TimeCaught.dt.weekofyear\u001b[0m\u001b[0;34m\u001b[0m\u001b[0;34m\u001b[0m\u001b[0;34m\u001b[0m\u001b[0m\n\u001b[1;32m      5\u001b[0m \u001b[0;31m# range_year_woy[\"year_woy\"]=range_year_woy.year*100+range_year_woy.week_of_year\u001b[0m\u001b[0;34m\u001b[0m\u001b[0;34m\u001b[0m\u001b[0;34m\u001b[0m\u001b[0m\n",
            "\u001b[0;31mNameError\u001b[0m: name 'pd' is not defined"
          ]
        }
      ]
    },
    {
      "cell_type": "code",
      "metadata": {
        "id": "F363yeDIWAxY",
        "colab_type": "code",
        "outputId": "0d3f724d-b8fd-4a34-90a9-1893b69fddf6",
        "colab": {}
      },
      "source": [
        "final_data=[]\n",
        "for site , year_woy in zip(CaptureSite_min_year_woy.CaptureSite.values,CaptureSite_min_year_woy.year_woy.values) :\n",
        "\n",
        "    one_site_df=range_year_woy[range_year_woy.year_woy>=year_woy]\n",
        "    one_site_df[\"CaptureSite\"]=site\n",
        "    final_data.append(one_site_df)\n",
        "final_data=pd.concat(final_data)\n",
        "len(final_data)"
      ],
      "execution_count": 0,
      "outputs": [
        {
          "output_type": "stream",
          "text": [
            "/opt/conda/lib/python3.6/site-packages/ipykernel_launcher.py:5: SettingWithCopyWarning: \n",
            "A value is trying to be set on a copy of a slice from a DataFrame.\n",
            "Try using .loc[row_indexer,col_indexer] = value instead\n",
            "\n",
            "See the caveats in the documentation: http://pandas.pydata.org/pandas-docs/stable/indexing.html#indexing-view-versus-copy\n",
            "  \"\"\"\n"
          ],
          "name": "stderr"
        },
        {
          "output_type": "execute_result",
          "data": {
            "text/plain": [
              "28048"
            ]
          },
          "metadata": {
            "tags": []
          },
          "execution_count": 74
        }
      ]
    },
    {
      "cell_type": "code",
      "metadata": {
        "id": "HUtys27yWAxf",
        "colab_type": "code",
        "colab": {}
      },
      "source": [
        "Target=train.groupby([\"year_woy\",\"CaptureSite\"]).CaptureSite.count().rename(\"Capture_Number\").reset_index()\n",
        "final_data=final_data.merge(Target,on=[\"year_woy\",\"CaptureSite\"],how=\"left\")\n",
        "final_data.Capture_Number.fillna(0,inplace=True)"
      ],
      "execution_count": 0,
      "outputs": []
    },
    {
      "cell_type": "code",
      "metadata": {
        "id": "vPJ4J-XnWAxm",
        "colab_type": "code",
        "outputId": "f6f813b3-fa03-4bae-c65e-8ceeae845e72",
        "colab": {}
      },
      "source": [
        "final_data.Capture_Number.fillna(0).value_counts(True)"
      ],
      "execution_count": 0,
      "outputs": [
        {
          "output_type": "execute_result",
          "data": {
            "text/plain": [
              "0.0     0.716308\n",
              "1.0     0.147461\n",
              "2.0     0.059469\n",
              "3.0     0.030626\n",
              "4.0     0.015759\n",
              "5.0     0.009199\n",
              "6.0     0.005990\n",
              "7.0     0.005455\n",
              "8.0     0.002603\n",
              "9.0     0.002104\n",
              "10.0    0.001604\n",
              "11.0    0.000998\n",
              "12.0    0.000606\n",
              "14.0    0.000535\n",
              "13.0    0.000499\n",
              "15.0    0.000214\n",
              "16.0    0.000178\n",
              "17.0    0.000107\n",
              "28.0    0.000036\n",
              "22.0    0.000036\n",
              "19.0    0.000036\n",
              "35.0    0.000036\n",
              "20.0    0.000036\n",
              "21.0    0.000036\n",
              "18.0    0.000036\n",
              "23.0    0.000036\n",
              "Name: Capture_Number, dtype: float64"
            ]
          },
          "metadata": {
            "tags": []
          },
          "execution_count": 78
        }
      ]
    },
    {
      "cell_type": "code",
      "metadata": {
        "id": "ns9Ukne1WAxs",
        "colab_type": "code",
        "colab": {}
      },
      "source": [
        ""
      ],
      "execution_count": 0,
      "outputs": []
    },
    {
      "cell_type": "code",
      "metadata": {
        "id": "XV0zrF0LWAxv",
        "colab_type": "code",
        "colab": {}
      },
      "source": [
        "train=final_data[final_data.year<2019]\n",
        "test=final_data[final_data.year==2019]"
      ],
      "execution_count": 0,
      "outputs": []
    },
    {
      "cell_type": "code",
      "metadata": {
        "id": "ENWM0fNgWAxy",
        "colab_type": "code",
        "colab": {}
      },
      "source": [
        ""
      ],
      "execution_count": 0,
      "outputs": []
    }
  ]
}